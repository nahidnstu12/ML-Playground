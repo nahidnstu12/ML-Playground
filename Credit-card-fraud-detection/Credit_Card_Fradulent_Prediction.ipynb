{
 "cells": [
  {
   "cell_type": "code",
   "execution_count": 1,
   "metadata": {
    "collapsed": true
   },
   "outputs": [],
   "source": [
    "import numpy as np\n",
    "import pandas as pd\n",
    "import matplotlib.pyplot as plt\n",
    "import seaborn as sns"
   ]
  },
  {
   "cell_type": "code",
   "execution_count": 32,
   "metadata": {},
   "outputs": [
    {
     "data": {
      "text/plain": [
       "(284807, 31)"
      ]
     },
     "execution_count": 32,
     "metadata": {},
     "output_type": "execute_result"
    }
   ],
   "source": [
    "data = pd.read_csv('creditcard.csv')\n",
    "data.shape"
   ]
  },
  {
   "cell_type": "code",
   "execution_count": 4,
   "metadata": {},
   "outputs": [
    {
     "data": {
      "text/plain": [
       "Time      0\n",
       "V1        0\n",
       "V2        0\n",
       "V3        0\n",
       "V4        0\n",
       "V5        0\n",
       "V6        0\n",
       "V7        0\n",
       "V8        0\n",
       "V9        0\n",
       "V10       0\n",
       "V11       0\n",
       "V12       0\n",
       "V13       0\n",
       "V14       0\n",
       "V15       0\n",
       "V16       0\n",
       "V17       0\n",
       "V18       0\n",
       "V19       0\n",
       "V20       0\n",
       "V21       0\n",
       "V22       0\n",
       "V23       0\n",
       "V24       0\n",
       "V25       0\n",
       "V26       0\n",
       "V27       0\n",
       "V28       0\n",
       "Amount    0\n",
       "Class     0\n",
       "dtype: int64"
      ]
     },
     "execution_count": 4,
     "metadata": {},
     "output_type": "execute_result"
    }
   ],
   "source": [
    "data.isnull().sum()"
   ]
  },
  {
   "cell_type": "code",
   "execution_count": 41,
   "metadata": {},
   "outputs": [
    {
     "name": "stdout",
     "output_type": "stream",
     "text": [
      "0.00143459915612\n",
      "Fraud case: 51\n",
      "Valid tx: 35550\n"
     ]
    }
   ],
   "source": [
    "# data = data.sample(frac=.5,random_state=1)\n",
    "#determine number of fraud cases in dataset\n",
    "Fraud = data[data['Class']==1]\n",
    "Valid = data[data['Class']==0]\n",
    "\n",
    "outlier_fraction = len(Fraud)/ float(len(Valid))\n",
    "print(outlier_fraction)\n",
    "\n",
    "print('Fraud case: {}'.format(len(Fraud)))\n",
    "print('Valid tx: {}'.format(len(Valid)))"
   ]
  },
  {
   "cell_type": "code",
   "execution_count": 37,
   "metadata": {},
   "outputs": [
    {
     "data": {
      "text/plain": [
       "(142404, 31)"
      ]
     },
     "execution_count": 37,
     "metadata": {},
     "output_type": "execute_result"
    }
   ],
   "source": [
    "data = data.sample(frac=.5,random_state=1)\n",
    "data.shape"
   ]
  },
  {
   "cell_type": "code",
   "execution_count": 38,
   "metadata": {},
   "outputs": [
    {
     "name": "stdout",
     "output_type": "stream",
     "text": [
      "(142404, 30)\n",
      "(142404L,)\n"
     ]
    }
   ],
   "source": [
    "# get all columns from dataframe\n",
    "columns = data.columns.tolist()\n",
    "\n",
    "columns = [c for c in columns if c not in ['Class']]\n",
    "\n",
    "target = \"Class\"\n",
    "\n",
    "X = data[columns]\n",
    "Y = data[target]\n",
    "\n",
    "print(X.shape)\n",
    "print(Y.shape)"
   ]
  },
  {
   "cell_type": "code",
   "execution_count": 23,
   "metadata": {},
   "outputs": [],
   "source": [
    "from sklearn.metrics import classification_report, accuracy_score\n",
    "from sklearn.ensemble import IsolationForest\n",
    "# from sklearn.neighbors import LocalOutlierFactor"
   ]
  },
  {
   "cell_type": "code",
   "execution_count": 39,
   "metadata": {},
   "outputs": [
    {
     "name": "stdout",
     "output_type": "stream",
     "text": [
      "Isolation Forest: 328\n",
      "0.997696693913\n",
      "             precision    recall  f1-score   support\n",
      "\n",
      "          0       1.00      1.00      1.00    142177\n",
      "          1       0.30      0.32      0.31       227\n",
      "\n",
      "avg / total       1.00      1.00      1.00    142404\n",
      "\n"
     ]
    }
   ],
   "source": [
    "state = 1\n",
    "# define outlier detection tools to be compared\n",
    "classifier = {\n",
    "    \"Isolation Forest\": IsolationForest(max_samples = len(X),\n",
    "                                        contamination=outlier_fraction,\n",
    "                                        random_state=state)\n",
    "#     \"Local Outlier Factor\": LocalOutlierFactor(n_neighbors=20,\n",
    "#                             contamination=outlier_fraction)\n",
    "}\n",
    "\n",
    "# fit the model\n",
    "plt.figure(figsize=(9,7))\n",
    "n_outliers = len(Fraud)\n",
    "\n",
    "for i,(clf_name,clf) in enumerate(classifier.items()):\n",
    "    if clf_name == 'Local Outlier Factor':\n",
    "        y_pred = clf.fit_predict(X)\n",
    "        scores_pred = clf.negetive_outlier_factor_\n",
    "    else:   \n",
    "        clf.fit(X)\n",
    "        scores_pred = clf.decision_function(X)\n",
    "        y_pred = clf.predict(X)\n",
    "        \n",
    "#     reshape the prediction values to 0 for valid,1 for fraud\n",
    "    y_pred[y_pred == 1] = 0\n",
    "    y_pred[y_pred == -1] =1\n",
    "    \n",
    "    n_errors = (y_pred != Y).sum()\n",
    "    \n",
    "#     run classification metrics\n",
    "    print('{}: {}'.format(clf_name,n_errors))\n",
    "    print(accuracy_score(Y,y_pred))\n",
    "    print(classification_report(Y,y_pred))\n",
    "        \n",
    "        \n"
   ]
  }
 ],
 "metadata": {
  "kernelspec": {
   "display_name": "Python 2",
   "language": "python",
   "name": "python2"
  },
  "language_info": {
   "codemirror_mode": {
    "name": "ipython",
    "version": 2
   },
   "file_extension": ".py",
   "mimetype": "text/x-python",
   "name": "python",
   "nbconvert_exporter": "python",
   "pygments_lexer": "ipython2",
   "version": "2.7.13"
  }
 },
 "nbformat": 4,
 "nbformat_minor": 2
}
