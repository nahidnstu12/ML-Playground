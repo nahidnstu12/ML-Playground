{
 "cells": [
  {
   "cell_type": "code",
   "execution_count": 1,
   "metadata": {},
   "outputs": [],
   "source": [
    "import numpy as np # linear algebra\n",
    "import pandas as pd # data processing, CSV file I/O (e.g. pd.read_csv)\n",
    "\n",
    "import os\n",
    "for dirname, _, filenames in os.walk('/kaggle/input'):\n",
    "    for filename in filenames:\n",
    "        print(os.path.join(dirname, filename))\n",
    "        \n",
    "# Any results you write to the current directory are saved as output.     \n",
    "\n",
    "from pandas_datareader import data as web\n",
    "import yfinance as yf\n",
    "from datetime import date\n",
    "import matplotlib.pyplot as plt\n",
    "import seaborn as sns\n",
    "import plotly.graph_objects as go\n",
    "import plotly.express as px\n",
    "%matplotlib inline"
   ]
  },
  {
   "cell_type": "code",
   "execution_count": 4,
   "metadata": {},
   "outputs": [],
   "source": [
    "df_1929 = pd.read_csv('./input/DOW_1929.csv')\n",
    "df_1987 = pd.read_csv('./input/SP500_1987.csv')\n",
    "df_2008 = pd.read_csv('./input/SP500_2008.csv')\n",
    "df_2020 = pd.read_csv('./input/SP500_2020.csv')\n",
    "\n",
    "df_1929.columns = ['Date','Adj Close']\n",
    "\n",
    "df_1929 = df_1929[31:]"
   ]
  },
  {
   "cell_type": "code",
   "execution_count": 5,
   "metadata": {},
   "outputs": [
    {
     "data": {
      "text/html": [
       "<div>\n",
       "<style scoped>\n",
       "    .dataframe tbody tr th:only-of-type {\n",
       "        vertical-align: middle;\n",
       "    }\n",
       "\n",
       "    .dataframe tbody tr th {\n",
       "        vertical-align: top;\n",
       "    }\n",
       "\n",
       "    .dataframe thead th {\n",
       "        text-align: right;\n",
       "    }\n",
       "</style>\n",
       "<table border=\"1\" class=\"dataframe\">\n",
       "  <thead>\n",
       "    <tr style=\"text-align: right;\">\n",
       "      <th></th>\n",
       "      <th>DOW_1929</th>\n",
       "      <th>SP500_1987</th>\n",
       "      <th>SP500_2008</th>\n",
       "      <th>SP500_2020</th>\n",
       "    </tr>\n",
       "  </thead>\n",
       "  <tbody>\n",
       "    <tr>\n",
       "      <th>mean</th>\n",
       "      <td>169.75454</td>\n",
       "      <td>255.700157</td>\n",
       "      <td>987.341530</td>\n",
       "      <td>2889.815045</td>\n",
       "    </tr>\n",
       "    <tr>\n",
       "      <th>min</th>\n",
       "      <td>41.22000</td>\n",
       "      <td>223.919998</td>\n",
       "      <td>752.440002</td>\n",
       "      <td>2237.399902</td>\n",
       "    </tr>\n",
       "    <tr>\n",
       "      <th>max</th>\n",
       "      <td>352.86000</td>\n",
       "      <td>328.079987</td>\n",
       "      <td>1277.579956</td>\n",
       "      <td>3386.149902</td>\n",
       "    </tr>\n",
       "  </tbody>\n",
       "</table>\n",
       "</div>"
      ],
      "text/plain": [
       "       DOW_1929  SP500_1987   SP500_2008   SP500_2020\n",
       "mean  169.75454  255.700157   987.341530  2889.815045\n",
       "min    41.22000  223.919998   752.440002  2237.399902\n",
       "max   352.86000  328.079987  1277.579956  3386.149902"
      ]
     },
     "execution_count": 5,
     "metadata": {},
     "output_type": "execute_result"
    }
   ],
   "source": [
    "d = pd.concat([df_1929.describe()['Adj Close'],df_1987.describe()['Adj Close'],df_2008.describe()['Adj Close'],df_2020.describe()['Adj Close']],axis=1)\n",
    "d.columns = ['DOW_1929','SP500_1987','SP500_2008','SP500_2020']\n",
    "pd.concat([d[['DOW_1929','SP500_1987','SP500_2008','SP500_2020']][1:2],d[['DOW_1929','SP500_1987','SP500_2008','SP500_2020']][3:4],d[['DOW_1929','SP500_1987','SP500_2008','SP500_2020']][7:8]])"
   ]
  },
  {
   "cell_type": "code",
   "execution_count": null,
   "metadata": {},
   "outputs": [],
   "source": []
  }
 ],
 "metadata": {
  "kernelspec": {
   "display_name": "Python 3",
   "language": "python",
   "name": "python3"
  },
  "language_info": {
   "codemirror_mode": {
    "name": "ipython",
    "version": 3
   },
   "file_extension": ".py",
   "mimetype": "text/x-python",
   "name": "python",
   "nbconvert_exporter": "python",
   "pygments_lexer": "ipython3",
   "version": "3.8.5"
  }
 },
 "nbformat": 4,
 "nbformat_minor": 4
}
